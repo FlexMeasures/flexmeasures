{
 "cells": [
  {
   "cell_type": "markdown",
   "id": "bd0d62e9-ef32-4839-9e9d-93fff93ac2cb",
   "metadata": {},
   "source": [
    "## Setup\n",
    "\n",
    "(1) Install IPyKernel\n",
    "\n",
    "```console\n",
    "pip install ipykernel\n",
    "```\n",
    "\n",
    "(2) Install FlexMeasures IPython Kernel\n",
    "\n",
    "```console\n",
    "ipython -m ipykernel install --user --name=fm\n",
    "```"
   ]
  },
  {
   "cell_type": "code",
   "execution_count": null,
   "id": "2fa4cae4-d47f-4124-a22f-c1bf1e7cbb00",
   "metadata": {},
   "outputs": [],
   "source": [
    "from flexmeasures.app import create\n",
    "from flexmeasures.data.models.time_series import Sensor\n",
    "\n",
    "from datetime import timedelta\n",
    "\n",
    "from flexmeasures.data.utils import save_to_db\n",
    "\n",
    "from sqlalchemy import select, update\n",
    "import time\n",
    "\n",
    "import timely_beliefs as tb\n",
    "import pandas as pd\n",
    "import numpy as np\n",
    "\n",
    "from flexmeasures.data.services.utils import get_or_create_model\n",
    "from flexmeasures import Asset, Sensor, AssetType, Account, Source\n",
    "from flexmeasures.data.models.time_series import TimedBelief\n",
    "\n",
    "app = create()"
   ]
  },
  {
   "cell_type": "code",
   "execution_count": null,
   "id": "755be175-cf86-4ba7-8a2f-66ba867d4e13",
   "metadata": {},
   "outputs": [],
   "source": [
    "ctx = app.app_context()"
   ]
  },
  {
   "cell_type": "code",
   "execution_count": null,
   "id": "0dad0aa1-5377-4cff-8375-2a2d20123b83",
   "metadata": {},
   "outputs": [],
   "source": [
    "ctx.__enter__()"
   ]
  },
  {
   "cell_type": "code",
   "execution_count": null,
   "id": "2fec795a-10cd-42a4-b1c1-b8083b1668de",
   "metadata": {},
   "outputs": [],
   "source": [
    "from flexmeasures.data.models.planning.linear_optimization import device_scheduler\n",
    "import pandas as pd\n",
    "\n",
    "COLUMNS = [\n",
    "    \"equals\",\n",
    "    \"max\",\n",
    "    \"min\",\n",
    "    \"efficiency\",\n",
    "    \"derivative equals\",\n",
    "    \"derivative max\",\n",
    "    \"derivative min\",\n",
    "    \"derivative down efficiency\",\n",
    "    \"derivative up efficiency\",\n",
    "    \"stock delta\",\n",
    "]"
   ]
  },
  {
   "cell_type": "code",
   "execution_count": null,
   "id": "e9143e55-ef8a-48c9-94da-cda937890eec",
   "metadata": {},
   "outputs": [],
   "source": [
    "import numpy as np\n",
    "resolution = timedelta(minutes=15)\n",
    "dt = pd.date_range(\"2024-01-01\", \"2024-01-02\", freq=\"15min\", inclusive=\"left\")\n",
    "\n",
    "commitment_upwards_deviation_price = pd.Series([100]*len(dt), index=dt) # Consumption Price\n",
    "commitment_downwards_deviation_price = pd.Series([70]*len(dt), index=dt) # Production\n",
    "\n",
    "#commitment_downwards_deviation_price[:10] = 10\n",
    "#commitment_upwards_deviation_price[:10] = 10\n",
    "\n",
    "commitment_upwards_deviation_price += -np.arange(len(dt))*0.2\n",
    "commitment_downwards_deviation_price += -np.arange(len(dt))*0.2\n",
    "\n",
    "commitment_quantities = pd.Series([0]*len(dt), index=dt)\n",
    "\n",
    "ems_constraints = pd.DataFrame(columns=COLUMNS, index=dt)\n",
    "ems_constraints[\"derivative max\"] = 1\n",
    "ems_constraints[\"derivative min\"] = -1\n",
    "\n",
    "n_devices = 1\n",
    "\n",
    "soc_at_start = 0.1\n",
    "\n",
    "soc_min = 0.0\n",
    "soc_max = 0.9\n",
    "\n",
    "# Base device constraints\n",
    "dc_main =  pd.DataFrame(columns=COLUMNS, index=dt)\n",
    "dc_main[\"min\"] = (soc_min - soc_at_start) * timedelta(hours=1) / resolution\n",
    "dc_main[\"max\"] =  (soc_max - soc_at_start) * timedelta(hours=1) / resolution\n",
    "\n",
    "dc_main[\"efficiency\"] = 0.99\n",
    "\n",
    "dc_main[\"derivative max\"] = 1\n",
    "dc_main[\"derivative min\"] = -1\n",
    "\n",
    "dc_main[\"derivative down efficiency\"] = 0.9\n",
    "dc_main[\"derivative up efficiency\"] = 0.9\n",
    "\n",
    "device_constraints = []\n",
    "\n",
    "#device_constraints.append(dc_main)\n",
    "\n",
    "for i in range(n_devices):\n",
    "    dc = dc_main.copy()\n",
    "    #dc[\"derivative down efficiency\"] += 1\n",
    "    device_constraints.append(dc)\n",
    "\n",
    "# Add some inflexible\n",
    "dc =  pd.DataFrame(columns=COLUMNS, index=dt)\n",
    "dc[\"derivative equals\"] = 1\n",
    "dc[\"derivative equals\"][10:20] = -2\n",
    "dc[\"derivative equals\"][20:40] = -1.5\n",
    "dc[\"derivative equals\"][40:50] = -2\n",
    "dc[\"derivative equals\"][70:80] = -2\n",
    "dc *= -1\n",
    "device_constraints.append(dc)\n"
   ]
  },
  {
   "cell_type": "code",
   "execution_count": null,
   "id": "45472494-194f-4f54-b09b-ebb7468ea977",
   "metadata": {},
   "outputs": [],
   "source": [
    "planned_power_per_device, planned_costs, results, model = device_scheduler(\n",
    "    device_constraints,\n",
    "    ems_constraints,\n",
    "    [commitment_quantities],\n",
    "    [commitment_downwards_deviation_price],\n",
    "    [commitment_upwards_deviation_price],\n",
    "    initial_stock = soc_at_start * (timedelta(hours=1) / resolution),\n",
    "    relaxed=True,\n",
    "    relaxation_cost=1009\n",
    ")"
   ]
  },
  {
   "cell_type": "code",
   "execution_count": null,
   "id": "f430a75c-4ed7-4a8e-8d7e-8e9294d4cca2",
   "metadata": {},
   "outputs": [],
   "source": [
    "results.solver.termination_condition"
   ]
  },
  {
   "cell_type": "code",
   "execution_count": null,
   "id": "1ede532b-5459-4767-b130-b7ed18a2bb5b",
   "metadata": {},
   "outputs": [],
   "source": [
    "planned_costs"
   ]
  },
  {
   "cell_type": "code",
   "execution_count": null,
   "id": "25a9be70-20a4-4a25-a229-c1e557a0ff97",
   "metadata": {},
   "outputs": [],
   "source": [
    "import matplotlib.pyplot as plt\n",
    "for i, power in enumerate(planned_power_per_device):\n",
    "    plt.plot(power, label=i)\n",
    "plt.legend()\n",
    "plt.grid()\n",
    "plt.tight_layout()"
   ]
  },
  {
   "cell_type": "code",
   "execution_count": null,
   "id": "8fa87167-e3e8-4c10-baa8-4be2cc45076e",
   "metadata": {},
   "outputs": [],
   "source": [
    "min(sum(planned_power_per_device)), max(sum(planned_power_per_device))"
   ]
  },
  {
   "cell_type": "code",
   "execution_count": null,
   "id": "c4d0669f-d016-4d0e-bfda-c44cc21e714e",
   "metadata": {},
   "outputs": [],
   "source": [
    "plt.plot(sum(planned_power_per_device))"
   ]
  },
  {
   "cell_type": "code",
   "execution_count": null,
   "id": "85f163da-720e-4b76-98fe-2e00b3bb82de",
   "metadata": {},
   "outputs": [],
   "source": [
    "plt.plot(commitment_upwards_deviation_price, label=\"up\")\n",
    "plt.plot(commitment_downwards_deviation_price, label=\"down\")\n",
    "\n",
    "plt.legend()"
   ]
  },
  {
   "cell_type": "code",
   "execution_count": null,
   "id": "adb13d8d-87cd-4c81-aeef-62aaafa09aa2",
   "metadata": {},
   "outputs": [],
   "source": []
  },
  {
   "cell_type": "code",
   "execution_count": null,
   "id": "46c89879-2494-442c-94b1-6234e494c4ad",
   "metadata": {},
   "outputs": [],
   "source": []
  },
  {
   "cell_type": "code",
   "execution_count": null,
   "id": "eb6c5432-7bdb-44bc-a5ce-807c7c529d31",
   "metadata": {},
   "outputs": [],
   "source": []
  },
  {
   "cell_type": "code",
   "execution_count": null,
   "id": "21325791-abe4-4110-9d09-d6461ff9d740",
   "metadata": {},
   "outputs": [],
   "source": []
  },
  {
   "cell_type": "code",
   "execution_count": null,
   "id": "47560c36-1ea7-44a5-b871-8e24d9160af8",
   "metadata": {},
   "outputs": [],
   "source": []
  }
 ],
 "metadata": {
  "kernelspec": {
   "display_name": "fm",
   "language": "python",
   "name": "fm"
  },
  "language_info": {
   "codemirror_mode": {
    "name": "ipython",
    "version": 3
   },
   "file_extension": ".py",
   "mimetype": "text/x-python",
   "name": "python",
   "nbconvert_exporter": "python",
   "pygments_lexer": "ipython3",
   "version": "3.10.6"
  }
 },
 "nbformat": 4,
 "nbformat_minor": 5
}
