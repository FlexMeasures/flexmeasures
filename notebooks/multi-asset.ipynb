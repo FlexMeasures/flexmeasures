{
 "cells": [
  {
   "cell_type": "markdown",
   "id": "2f91ef0e-481d-4511-b71e-d8292f0ac8bf",
   "metadata": {},
   "source": [
    "# Multi Asset Scheduling Testbench"
   ]
  },
  {
   "cell_type": "markdown",
   "id": "36d617ba-8d6d-4b57-bda1-c582646a5605",
   "metadata": {},
   "source": [
    "## Setup"
   ]
  },
  {
   "cell_type": "code",
   "execution_count": 2,
   "id": "fda4f5e8-d8f9-4679-9aa1-f6778799f6c9",
   "metadata": {},
   "outputs": [
    {
     "name": "stdout",
     "output_type": "stream",
     "text": [
      "Warning: Without complete mail settings, FlexMeasures will not be able to send mails to users, e.g. for password resets!\n",
      "You might consider setting MAIL_PASSWORD.\n",
      "[FLEXMEASURES][2025-03-11 11:42:38,415] WARNING: Support for Torch based models not available. To enable them, install \"darts\", \"u8darts[torch]\" or \"u8darts[all]\" (with pip); or \"u8darts-torch\" or \"u8darts-all\" (with conda).\n"
     ]
    }
   ],
   "source": [
    "from flexmeasures.app import create\n",
    "from flexmeasures.data.models.time_series import Sensor\n",
    "\n",
    "from datetime import timedelta\n",
    "\n",
    "from flexmeasures.data.utils import save_to_db\n",
    "\n",
    "from sqlalchemy import select, update\n",
    "import time\n",
    "\n",
    "import timely_beliefs as tb\n",
    "import pandas as pd\n",
    "import numpy as np\n",
    "\n",
    "from flexmeasures.data.services.utils import get_or_create_model\n",
    "from flexmeasures import Asset, Sensor, AssetType, Account, Source\n",
    "from flexmeasures.data.models.time_series import TimedBelief\n",
    "\n",
    "app = create()\n",
    "ctx = app.app_context()\n",
    "ctx.__enter__()\n",
    "session = app.db.session"
   ]
  },
  {
   "cell_type": "code",
   "execution_count": 3,
   "id": "38aa8817-0210-4ef4-a33f-c658c85025bb",
   "metadata": {},
   "outputs": [],
   "source": [
    "session.rollback()"
   ]
  },
  {
   "cell_type": "markdown",
   "id": "1804558d-dd04-403e-809d-98f32f59dc0b",
   "metadata": {
    "jp-MarkdownHeadingCollapsed": true
   },
   "source": [
    "### Create Asset and Asset Types"
   ]
  },
  {
   "cell_type": "code",
   "execution_count": 4,
   "id": "84f6675e-3f2a-4875-9751-0244618e020b",
   "metadata": {},
   "outputs": [],
   "source": [
    "## Create asset types\n",
    "site_type = AssetType(name=\"site\")\n",
    "building_type = AssetType(name=\"building\")\n",
    "ev_type = AssetType(name=\"ev\")\n",
    "solar_type = AssetType(name=\"solar panel\")\n",
    "battery_type = AssetType(name=\"battery\")\n",
    "\n",
    "asset_types = [site_type, building_type, ev_type, solar_type, battery_type]\n",
    "\n",
    "session.add_all(asset_types)\n",
    "session.flush()\n",
    "\n",
    "## Create Assets\n",
    "coordinates = {\"latitude\": 0, \"longitude\": 0}\n",
    "test_site = Asset(name=\"Test Site\", generic_asset_type_id=site_type.id, **coordinates)\n",
    "session.add(test_site)\n",
    "session.flush()\n",
    "\n",
    "test_building = Asset(\n",
    "    name=\"Test Building\",\n",
    "    generic_asset_type_id=building_type.id,\n",
    "    parent_asset_id=test_site.id,\n",
    "    **coordinates,\n",
    ")\n",
    "test_solar = Asset(\n",
    "    name=\"Test Solar\",\n",
    "    generic_asset_type_id=solar_type.id,\n",
    "    parent_asset_id=test_site.id,\n",
    "    **coordinates,\n",
    ")\n",
    "test_battery = Asset(\n",
    "    name=\"Test Battery\",\n",
    "    generic_asset_type_id=battery_type.id,\n",
    "    parent_asset_id=test_site.id,\n",
    "    **coordinates,\n",
    ")\n",
    "test_ev = Asset(\n",
    "    name=\"Test EV\",\n",
    "    generic_asset_type_id=ev_type.id,\n",
    "    parent_asset_id=test_site.id,\n",
    "    **coordinates,\n",
    ")\n",
    "test_battery_1h = Asset(\n",
    "    name=\"Test Battery 1h\",\n",
    "    generic_asset_type_id=battery_type.id,\n",
    "    parent_asset_id=test_site.id,\n",
    "    **coordinates,\n",
    ")\n",
    "\n",
    "assets = (\n",
    "    test_site,\n",
    "    test_building,\n",
    "    test_solar,\n",
    "    test_battery,\n",
    "    test_ev,\n",
    "    test_battery_1h,\n",
    ")\n",
    "\n",
    "session.add_all(assets)\n",
    "session.flush()\n",
    "\n",
    "sensors = dict()\n",
    "\n",
    "# Add power sensor\n",
    "for asset in assets:\n",
    "    sensor = Sensor(\n",
    "        name=\"power\",\n",
    "        unit=\"MW\",\n",
    "        event_resolution=(\n",
    "            timedelta(hours=1)\n",
    "            if asset.name == \"Test Battery 1h\"\n",
    "            else timedelta(minutes=15)\n",
    "        ),\n",
    "        generic_asset=asset,\n",
    "        timezone=\"Europe/Amsterdam\",\n",
    "    )\n",
    "    sensors[asset.name] = sensor\n",
    "\n",
    "session.add_all(list(sensors.values()))\n",
    "session.flush()"
   ]
  },
  {
   "cell_type": "code",
   "execution_count": 5,
   "id": "886c94a9-bcf1-437a-83e1-e25e7c2f75cc",
   "metadata": {},
   "outputs": [
    {
     "data": {
      "text/plain": [
       "[<GenericAsset 8: 'Test Site' (site)>,\n",
       " <GenericAsset 9: 'Test Building' (building)>,\n",
       " <GenericAsset 10: 'Test Solar' (solar panel)>,\n",
       " <GenericAsset 11: 'Test Battery' (battery)>,\n",
       " <GenericAsset 12: 'Test EV' (ev)>,\n",
       " <GenericAsset 13: 'Test Battery 1h' (battery)>]"
      ]
     },
     "execution_count": 5,
     "metadata": {},
     "output_type": "execute_result"
    }
   ],
   "source": [
    "Asset.query.all()"
   ]
  },
  {
   "cell_type": "code",
   "execution_count": 6,
   "id": "345a1a61-f778-455c-ab84-43b49bd7c842",
   "metadata": {},
   "outputs": [
    {
     "data": {
      "text/plain": [
       "[<Sensor 8: power, unit: MW res.: 0:15:00>,\n",
       " <Sensor 9: power, unit: MW res.: 0:15:00>,\n",
       " <Sensor 10: power, unit: MW res.: 0:15:00>,\n",
       " <Sensor 11: power, unit: MW res.: 0:15:00>,\n",
       " <Sensor 12: power, unit: MW res.: 0:15:00>,\n",
       " <Sensor 13: power, unit: MW res.: 1:00:00>]"
      ]
     },
     "execution_count": 6,
     "metadata": {},
     "output_type": "execute_result"
    }
   ],
   "source": [
    "Sensor.query.all()"
   ]
  },
  {
   "cell_type": "markdown",
   "id": "c3e7a439-fdf6-4116-89f1-7830259db921",
   "metadata": {
    "jp-MarkdownHeadingCollapsed": true
   },
   "source": [
    "### Create Market Asset and Price sensor"
   ]
  },
  {
   "cell_type": "code",
   "execution_count": 7,
   "id": "e701c27f-d91d-41cd-826e-49c2e1d3f7c4",
   "metadata": {},
   "outputs": [],
   "source": [
    "from timely_beliefs.sensors.func_store.knowledge_horizons import x_days_ago_at_y_oclock\n",
    "\n",
    "# Create the epex_da market\n",
    "day_ahead = AssetType(\n",
    "    name=\"day_ahead\",\n",
    ")\n",
    "epex = Asset(\n",
    "    name=\"epex\",\n",
    "    generic_asset_type=day_ahead,\n",
    ")\n",
    "\n",
    "price_sensors = {}\n",
    "for sensor_name in [\"epex_da\"]:\n",
    "    price_sensor = Sensor(\n",
    "        name=sensor_name,\n",
    "        generic_asset=epex,\n",
    "        event_resolution=timedelta(hours=1),\n",
    "        unit=\"EUR/MWh\",\n",
    "        knowledge_horizon=(\n",
    "            x_days_ago_at_y_oclock,\n",
    "            {\"x\": 1, \"y\": 12, \"z\": \"Europe/Paris\"},\n",
    "        ),\n",
    "        attributes=dict(\n",
    "            daily_seasonality=True,\n",
    "            weekly_seasonality=True,\n",
    "            yearly_seasonality=True,\n",
    "        ),\n",
    "    )\n",
    "    session.add(price_sensor)\n",
    "    price_sensors[sensor_name] = price_sensor\n",
    "session.flush()\n"
   ]
  },
  {
   "cell_type": "code",
   "execution_count": 8,
   "id": "1e44251c-51a6-46d1-b8b2-44437e0bc104",
   "metadata": {},
   "outputs": [],
   "source": [
    "seita_source = Source(name=\"Seita\", type=\"demo script\")\n",
    "session.add(seita_source)\n",
    "session.flush()"
   ]
  },
  {
   "cell_type": "code",
   "execution_count": 9,
   "id": "ce132b5c-f066-4938-a37a-1c3f22c89afd",
   "metadata": {},
   "outputs": [
    {
     "data": {
      "text/plain": [
       "[<GenericAsset 8: 'Test Site' (site)>,\n",
       " <GenericAsset 9: 'Test Building' (building)>,\n",
       " <GenericAsset 10: 'Test Solar' (solar panel)>,\n",
       " <GenericAsset 11: 'Test Battery' (battery)>,\n",
       " <GenericAsset 12: 'Test EV' (ev)>,\n",
       " <GenericAsset 13: 'Test Battery 1h' (battery)>,\n",
       " <GenericAsset 14: 'epex' (day_ahead)>]"
      ]
     },
     "execution_count": 9,
     "metadata": {},
     "output_type": "execute_result"
    }
   ],
   "source": [
    "Asset.query.all()"
   ]
  },
  {
   "cell_type": "code",
   "execution_count": 10,
   "id": "84c0cd91-0d49-4ac9-8b7e-a0a6939764e4",
   "metadata": {},
   "outputs": [],
   "source": [
    "from isodate import parse_duration\n",
    "def add_beliefs(\n",
    "    session,\n",
    "    sensor: Sensor,\n",
    "    time_slots: pd.DatetimeIndex,\n",
    "    values: list[int | float] | np.ndarray,\n",
    "    source: Source,\n",
    "):\n",
    "    beliefs = [\n",
    "        TimedBelief(\n",
    "            event_start=dt,\n",
    "            belief_time=pd.Timestamp.now(tz=\"Europe/Amsterdam\"),\n",
    "            event_value=val,\n",
    "            sensor=sensor,\n",
    "            source=source,\n",
    "        )\n",
    "        for dt, val in zip(time_slots, values)\n",
    "    ]\n",
    "    session.add_all(beliefs)"
   ]
  },
  {
   "cell_type": "code",
   "execution_count": 97,
   "id": "25bef0c1-2f9a-462e-9d28-e513e59fca1a",
   "metadata": {
    "scrolled": true
   },
   "outputs": [
    {
     "data": {
      "image/png": "[encoded data removed]",
      "text/plain": [
       "<Figure size 640x480 with 1 Axes>"
      ]
     },
     "metadata": {},
     "output_type": "display_data"
    }
   ],
   "source": [
    "import matplotlib.pyplot as plt\n",
    "from flexmeasures.data.models.planning.utils import initialize_index\n",
    "from random import random, seed\n",
    "import numpy as np\n",
    "\n",
    "start = pd.Timestamp(\"2015-01-01\").tz_localize(\"Europe/Amsterdam\")\n",
    "end = pd.Timestamp(\"2015-01-02\").tz_localize(\"Europe/Amsterdam\")\n",
    "\n",
    "time_slots = initialize_index(\n",
    "    start=start,\n",
    "    end=end,\n",
    "    resolution=\"1H\",\n",
    ")\n",
    "values = [1 for x in range(len(time_slots))]\n",
    "#values = [random() * (1 + np.sin(x * 2 * np.pi / 24)) for x in range(len(time_slots))]\n",
    "\n",
    "# values[4] = 40\n",
    "# values[8] = 100\n",
    "\n",
    "add_beliefs(\n",
    "    session=session,\n",
    "    sensor=price_sensor,\n",
    "    time_slots=time_slots,\n",
    "    values=values,\n",
    "    source=seita_source,\n",
    ")\n",
    "\n",
    "session.flush()\n",
    "\n",
    "plt.plot(time_slots, values)\n",
    "plt.show()"
   ]
  },
  {
   "cell_type": "markdown",
   "id": "080f21ff-cdfa-4f38-ad5b-ed34aa9b7e0c",
   "metadata": {},
   "source": [
    "### Add data to Solar"
   ]
  },
  {
   "cell_type": "code",
   "execution_count": 98,
   "id": "fca4fcbc-d529-4604-9fdb-91d6cbb425dd",
   "metadata": {},
   "outputs": [
    {
     "data": {
      "image/png": "[encoded data removed]",
      "text/plain": [
       "<Figure size 640x480 with 1 Axes>"
      ]
     },
     "metadata": {},
     "output_type": "display_data"
    }
   ],
   "source": [
    "time_slots = initialize_index(\n",
    "    start=start,\n",
    "    end=end,\n",
    "    resolution=\"15min\",\n",
    ")\n",
    "values = np.array([0.0 for x in range(len(time_slots))])\n",
    "#values = [random() * (1 + np.sin(x * 2 * np.pi / 24)) for x in range(len(time_slots))]\n",
    "\n",
    "values[8*4:16*4] = .25 #0.25 #-0.25\n",
    "\n",
    "add_beliefs(\n",
    "    session=session,\n",
    "    sensor=sensors[\"Test Solar\"],\n",
    "    time_slots=time_slots,\n",
    "    values=values.tolist(),\n",
    "    source=seita_source,\n",
    ")\n",
    "\n",
    "session.flush()\n",
    "data = sensors[\"Test Solar\"].search_beliefs()\n",
    "data = data.reset_index([\"belief_time\", \"cumulative_probability\", \"source\"])[[\"event_value\"]]\n",
    "plt.plot(data)\n",
    "plt.show()"
   ]
  },
  {
   "cell_type": "markdown",
   "id": "ca1d2a62-0d66-42f5-ad2c-a73f577eddd3",
   "metadata": {},
   "source": [
    "## Call scheduler"
   ]
  },
  {
   "cell_type": "code",
   "execution_count": 127,
   "id": "56bdb45f-cd3d-473e-ad8a-5dec35ac3fe0",
   "metadata": {},
   "outputs": [],
   "source": [
    "# flex_model = [\n",
    "#     {\n",
    "#         \"sensor\": sensors[\"Test Battery\"].id,\n",
    "#         \"consumption-capacity\": \"100kW\",\n",
    "#         \"production-capacity\": \"100kW\",\n",
    "#         \"power-capacity\": \"100kW\",\n",
    "#         \"soc-at-start\": 0.01,  # 100 kWh\n",
    "#         \"soc-unit\": \"MWh\",\n",
    "#         \"soc-min\": 0.0,\n",
    "#         \"soc-max\": 0.1,  # 100 kWh\n",
    "#     },\n",
    "# ]\n",
    "flex_model = [\n",
    "    {\n",
    "        \"sensor\": sensors[\"Test Battery\"].id,\n",
    "        \"consumption-capacity\": \"100kW\",\n",
    "        \"production-capacity\": \"100kW\",\n",
    "        \"power-capacity\": \"100kW\",\n",
    "        \"soc-at-start\": 0.0,  # 100 kWh\n",
    "        \"soc-unit\": \"MWh\",\n",
    "        \"soc-min\": 0.0,\n",
    "        \"soc-max\": 0.1,  # 100 kWh\n",
    "    },\n",
    "    {\n",
    "        \"sensor\": sensors[\"Test Solar\"].id,\n",
    "        \"consumption-capacity\": \"0kW\",\n",
    "        \"production-capacity\": {\"sensor\": sensors[\"Test Solar\"].id},\n",
    "        \"power-capacity\": \"1000kW\",\n",
    "        \"soc-at-start\": 10000,  # 100 kWh\n",
    "        \"soc-unit\": \"MWh\",\n",
    "        \"soc-min\": -100000,\n",
    "        \"soc-max\": 100000,  # 100 kWh\n",
    "    },\n",
    "    # {\n",
    "    #     \"sensor\": sensors[\"Test Solar\"].id,\n",
    "    #     \"consumption-capacity\": \"0kW\",\n",
    "    #     \"production-capacity\": {\"sensor\": sensors[\"Test Solar\"].id},\n",
    "    #     \"power-capacity\": \"1000kW\",\n",
    "    #     \"soc-at-start\": 0,  # 100 kWh\n",
    "    #     \"soc-unit\": \"MWh\",\n",
    "    #     \"soc-min\": -10000,\n",
    "    #     \"soc-max\": 10000,  # 100 kWh\n",
    "    # },\n",
    "]\n",
    "flex_context = {\n",
    "    \"consumption-price\": {\"sensor\" : price_sensor.id},\n",
    "    \"production-price\":  {\"sensor\" : price_sensor.id},\n",
    "    \"site-production-capacity\": \"100kW\",\n",
    "    \"site-consumption-capacity\": \"100kW\",\n",
    "    \"site-consumption-breach-price\" : \"100 EUR/MW\",\n",
    "    \"site-production-breach-price\" : \"100 EUR/MW\"\n",
    "}\n",
    "\n",
    "# flex_context = {\n",
    "#     \"consumption-price-sensor\": price_sensor.id,\n",
    "#     \"production-price-sensor\": price_sensor.id,\n",
    "#     \"inflexible-device-sensors\": [\n",
    "#         sensors[\"Test Solar\"].id,\n",
    "#     ],\n",
    "#     \"site-production-capacity\": \"100kW\",\n",
    "#     \"site-consumption-capacity\": \"100kW\",\n",
    "# }"
   ]
  },
  {
   "cell_type": "code",
   "execution_count": 128,
   "id": "bae2a270-03e3-4ecc-ab28-107db6a4c0ed",
   "metadata": {},
   "outputs": [],
   "source": [
    "from flexmeasures.data.models.planning.storage import StorageScheduler\n",
    "\n",
    "scheduler = StorageScheduler(\n",
    "    asset_or_sensor=test_site,\n",
    "    start=start,\n",
    "    end=end,\n",
    "    resolution=\"PT15M\",\n",
    "    flex_model=flex_model,\n",
    "    flex_context=flex_context,\n",
    "    return_multiple=True\n",
    ")\n",
    "result = scheduler.compute()"
   ]
  },
  {
   "cell_type": "code",
   "execution_count": 129,
   "id": "c304c934-46f6-4858-86a0-c7daa974f89d",
   "metadata": {},
   "outputs": [
    {
     "data": {
      "text/plain": [
       "[{'name': 'storage_schedule',\n",
       "  'sensor': <Sensor 11: power, unit: MW res.: 0:15:00>,\n",
       "  'data': datetime\n",
       "  2014-12-31 23:00:00+00:00    0.1\n",
       "  2014-12-31 23:15:00+00:00    0.1\n",
       "  2014-12-31 23:30:00+00:00    0.1\n",
       "  2014-12-31 23:45:00+00:00    0.1\n",
       "  2015-01-01 00:00:00+00:00    0.0\n",
       "                              ... \n",
       "  2015-01-01 21:45:00+00:00    0.0\n",
       "  2015-01-01 22:00:00+00:00   -0.1\n",
       "  2015-01-01 22:15:00+00:00   -0.1\n",
       "  2015-01-01 22:30:00+00:00   -0.1\n",
       "  2015-01-01 22:45:00+00:00   -0.1\n",
       "  Freq: 15min, Length: 96, dtype: float64},\n",
       " {'name': 'storage_schedule',\n",
       "  'sensor': <Sensor 10: power, unit: MW res.: 0:15:00>,\n",
       "  'data': datetime\n",
       "  2014-12-31 23:00:00+00:00   -0.0\n",
       "  2014-12-31 23:15:00+00:00   -0.0\n",
       "  2014-12-31 23:30:00+00:00   -0.0\n",
       "  2014-12-31 23:45:00+00:00   -0.0\n",
       "  2015-01-01 00:00:00+00:00   -0.0\n",
       "                              ... \n",
       "  2015-01-01 21:45:00+00:00   -0.0\n",
       "  2015-01-01 22:00:00+00:00   -0.0\n",
       "  2015-01-01 22:15:00+00:00   -0.0\n",
       "  2015-01-01 22:30:00+00:00   -0.0\n",
       "  2015-01-01 22:45:00+00:00   -0.0\n",
       "  Freq: 15min, Length: 96, dtype: float64},\n",
       " {'name': 'commitment_costs',\n",
       "  'data': {'energy': -0.9005278942222223,\n",
       "   'any consumption breach': 0.0,\n",
       "   'all consumption breaches': 0.0,\n",
       "   'any production breach': 0.0,\n",
       "   'all production breaches': 0.0}}]"
      ]
     },
     "execution_count": 129,
     "metadata": {},
     "output_type": "execute_result"
    }
   ],
   "source": [
    "result"
   ]
  },
  {
   "cell_type": "code",
   "execution_count": 130,
   "id": "35248abd-b400-4c6e-823f-3e20ca8a95db",
   "metadata": {},
   "outputs": [
    {
     "data": {
      "image/png": "[encoded data removed]",
      "text/plain": [
       "<Figure size 640x480 with 1 Axes>"
      ]
     },
     "metadata": {},
     "output_type": "display_data"
    }
   ],
   "source": [
    "result[0][\"data\"].plot()\n",
    "result[1][\"data\"].plot()\n",
    "plt.legend([result[0][\"sensor\"].generic_asset.name, result[1][\"sensor\"].generic_asset.name])\n",
    "plt.show()"
   ]
  },
  {
   "cell_type": "code",
   "execution_count": 26,
   "id": "2e4a3f53-9004-447e-bbbe-07a05865dced",
   "metadata": {},
   "outputs": [],
   "source": [
    "flex_model = [\n",
    "    {\n",
    "        \"sensor\": sensors[\"Test Battery\"].id,\n",
    "        \"consumption-capacity\": \"100kW\",\n",
    "        \"production-capacity\": \"100kW\",\n",
    "        \"power-capacity\": \"100kW\",\n",
    "        \"soc-at-start\": 0.01,  # 100 kWh\n",
    "        \"soc-unit\": \"MWh\",\n",
    "        \"soc-min\": 0.0,\n",
    "        \"soc-max\": 0.1,  # 100 kWh\n",
    "    },\n",
    "]"
   ]
  }
 ],
 "metadata": {
  "kernelspec": {
   "display_name": "fm",
   "language": "python",
   "name": "fm"
  },
  "language_info": {
   "codemirror_mode": {
    "name": "ipython",
    "version": 3
   },
   "file_extension": ".py",
   "mimetype": "text/x-python",
   "name": "python",
   "nbconvert_exporter": "python",
   "pygments_lexer": "ipython3",
   "version": "3.11.7"
  }
 },
 "nbformat": 4,
 "nbformat_minor": 5
}
